{
 "cells": [
  {
   "cell_type": "code",
   "execution_count": null,
   "id": "5744217a",
   "metadata": {},
   "outputs": [],
   "source": [
    "import pandas as pd\n",
    "df = pd.read_csv('your_data.csv')\n",
    "\n",
    "df['Revenue Growth (%)'] = df.groupby(['Company'])['Total Revenue'].pct_change() * 100\n",
    "df['Net Income Growth (%)'] = df.groupby(['Company'])['Net Income'].pct_change() * 100\n",
    "\n",
    "#Answer provided to Check\n",
    "#import pandas as pd\n",
    "\n",
    "# Load the data from the Excel spreadsheet\n",
    "#file_path = 'path_to_your_excel_file.xlsx'\n",
    "#df = pd.read_excel(file_path)\n",
    "\n",
    "# Calculate year-over-year growth rates for Total Revenue and Net Income\n",
    "#df['Revenue Growth (%)'] = df.groupby('Company Name')['Total Revenue'].pct_change() * 100\n",
    "#df['Net Income Growth (%)'] = df.groupby('Company Name')['Net Income'].pct_change() * 100\n",
    "\n",
    "# Fill NA values that result from pct_change calculations with 0 or an appropriate value\n",
    "#df.fillna(0, inplace=True)\n",
    "\n",
    "# Display the dataframe to verify the calculations\n",
    "#print(df)\n",
    "\n",
    "# Optionally, you could summarize these findings for each company\n",
    "#summary = df.groupby('Company Name').agg({\n",
    "#    'Revenue Growth (%)': 'mean',\n",
    "#   'Net Income Growth (%)': 'mean'\n",
    "#}).reset_index()\n",
    "\n",
    "#print(\"\\nYear-over-Year Average Growth Rates (%):\")\n",
    "#print(summary)\n",
    "\n"
   ]
  }
 ],
 "metadata": {
  "language_info": {
   "name": "python"
  }
 },
 "nbformat": 4,
 "nbformat_minor": 5
}
